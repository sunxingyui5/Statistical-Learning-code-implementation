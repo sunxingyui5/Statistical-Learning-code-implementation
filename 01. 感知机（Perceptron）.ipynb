{
 "cells": [
  {
   "cell_type": "markdown",
   "id": "90d95201",
   "metadata": {},
   "source": [
    "#### 感知机学习算法  \n",
    "**输入**：训练数据集$T=\\{(x_1,y_1),(x_2,y_2),...,(x_N,y_N) \\}$，其中：  \n",
    "$x_i \\in \\chi =R^n$，  \n",
    "$y_i \\in Y=\\{-1,+1 \\}$，  \n",
    "$i=1,2,...N$；  \n",
    "学习率$\\eta(1<\\eta \\le 1)$  \n",
    "**输出**：$w,b$；感知机模型$f(x)=sign(w\\cdot x+b)$  \n",
    "（1）选取初始值$w_0,b_0$；  \n",
    "（2）在训练集中选取数据$(x_i,y_i)$；  \n",
    "（3）如果$y_i(w\\cdot x_i+b)\\le 0$，  \n",
    "$w\\gets w+\\eta y_ix_i$  \n",
    "$b \\gets b+\\eta y_i$\n",
    "（4）转至（2），直至训练集中没有误分类点"
   ]
  },
  {
   "cell_type": "code",
   "execution_count": 1,
   "id": "3b8513ea",
   "metadata": {},
   "outputs": [],
   "source": [
    "import numpy as np"
   ]
  },
  {
   "cell_type": "markdown",
   "id": "7b80fecc",
   "metadata": {},
   "source": [
    "#### 加载Mnist数据集：http://yann.lecun.com/exdb/mnist/\n",
    "*$fileName$*: 要加载的数据集路径  \n",
    "*return*: list形式的数据集及标记"
   ]
  },
  {
   "cell_type": "code",
   "execution_count": 2,
   "id": "2702ab36",
   "metadata": {},
   "outputs": [],
   "source": [
    "def loadData(fileName):\n",
    "    dataArr = []\n",
    "    labelArr = []\n",
    "    fr = open(fileName, 'r')\n",
    "    # 将文件按行读取\n",
    "    for line in fr.readlines():\n",
    "        curLine = line.strip().split(',')\n",
    "        # Mnsit有0-9是个标记，由于是二分类任务，所以将>=5的作为1，<5为-1\n",
    "        if int(curLine[0]) >= 5:\n",
    "            labelArr.append(1)\n",
    "        else:\n",
    "            labelArr.append(-1)\n",
    "        dataArr.append([int(num)/255 for num in curLine[1:]])\n",
    "    #返回data和label\n",
    "    return dataArr, labelArr"
   ]
  },
  {
   "cell_type": "markdown",
   "id": "27ccee94",
   "metadata": {},
   "source": [
    "#### 感知器训练过程  \n",
    "*$dataArr$*:训练集的数据 (list)  \n",
    "*$labelArr$*: 训练集的标签(list)  \n",
    "*$iter$*: 迭代次数，默认50  \n",
    "*return*: 训练好的w和b"
   ]
  },
  {
   "cell_type": "code",
   "execution_count": 18,
   "id": "0ecc145d",
   "metadata": {},
   "outputs": [],
   "source": [
    "def perceptron(dataArr, labelArr, iter=50):\n",
    "    #将数据转换成矩阵形式\n",
    "    dataMat = np.mat(dataArr)\n",
    "    labelMat = np.mat(labelArr).T\n",
    "    m, n = np.shape(dataMat)\n",
    "    #创建初始权重w，偏置b，学习率lr，初始值全为0。\n",
    "    w = np.zeros((1, np.shape(dataMat)[1]))\n",
    "    b = 0\n",
    "    lr = 0.0001\n",
    "    #进行迭代计算（lter次）\n",
    "    for k in range(iter):\n",
    "        #对于每一个样本进行梯度下降\n",
    "        for i in range(m):\n",
    "            xi = dataMat[i]\n",
    "            yi = labelMat[i]\n",
    "            if -1 * yi * (w * xi.T + b) >= 0:\n",
    "                #对于误分类样本，进行梯度下降，更新w和b\n",
    "                w = w + lr *  yi * xi\n",
    "                b = b + lr * yi\n",
    "        if k%5 == 0:\n",
    "            print('Round %d:%d training' % (k, iter))\n",
    "\n",
    "    #返回训练完的w、b\n",
    "    return w, b"
   ]
  },
  {
   "cell_type": "markdown",
   "id": "acba11d4",
   "metadata": {},
   "source": [
    "#### 测试准确率  \n",
    "*$dataArr$*:测试集  \n",
    "*$labelArr$*: 测试集标签    \n",
    "*$w$*: 训练获得的权重w  \n",
    "*$b$*: 训练获得的偏置b  \n",
    "*return*: 正确率"
   ]
  },
  {
   "cell_type": "code",
   "execution_count": 19,
   "id": "cedc6618",
   "metadata": {},
   "outputs": [],
   "source": [
    "def model_test(dataArr, labelArr, w, b):\n",
    "    dataMat = np.mat(dataArr)\n",
    "    #将label转换为矩阵并转置\n",
    "    labelMat = np.mat(labelArr).T\n",
    "    m, n = np.shape(dataMat)\n",
    "    #错误样本数计数\n",
    "    errorCnt = 0\n",
    "    #遍历所有测试样本\n",
    "    for i in range(m):\n",
    "        xi = dataMat[i]\n",
    "        yi = labelMat[i]\n",
    "        result = -1 * yi * (w * xi.T + b)\n",
    "        #如果-yi(w*xi+b)>=0，说明该样本被误分类，错误样本数加一\n",
    "        if result >= 0: errorCnt += 1\n",
    "    #正确率 = 1 - （样本分类错误数 / 样本总数）\n",
    "    accruRate = 1 - (errorCnt / m)\n",
    "    #返回正确率\n",
    "    return accruRate"
   ]
  },
  {
   "cell_type": "markdown",
   "id": "d2000c37",
   "metadata": {},
   "source": [
    "#### 开始实验"
   ]
  },
  {
   "cell_type": "code",
   "execution_count": 20,
   "id": "d3303cf4",
   "metadata": {},
   "outputs": [
    {
     "name": "stdout",
     "output_type": "stream",
     "text": [
      "Round 0:30 training\n",
      "Round 5:30 training\n",
      "Round 10:30 training\n",
      "Round 15:30 training\n",
      "Round 20:30 training\n",
      "Round 25:30 training\n",
      "accuracy rate is: 0.8172\n"
     ]
    }
   ],
   "source": [
    "#获取训练集及标签\n",
    "trainData, trainLabel = loadData('Mnist/mnist_train.csv')\n",
    "#获取测试集及标签\n",
    "testData, testLabel = loadData('Mnist/mnist_test.csv')\n",
    "\n",
    "#训练获得权重\n",
    "w, b = perceptron(trainData, trainLabel, iter = 30)\n",
    "#进行测试，获得正确率\n",
    "accuracy = model_test(testData, testLabel, w, b)\n",
    "\n",
    "#显示正确率\n",
    "print('accuracy rate is:', accuracy)"
   ]
  },
  {
   "cell_type": "code",
   "execution_count": null,
   "id": "7aab9251",
   "metadata": {},
   "outputs": [],
   "source": []
  }
 ],
 "metadata": {
  "kernelspec": {
   "display_name": "Python 3 (ipykernel)",
   "language": "python",
   "name": "python3"
  },
  "language_info": {
   "codemirror_mode": {
    "name": "ipython",
    "version": 3
   },
   "file_extension": ".py",
   "mimetype": "text/x-python",
   "name": "python",
   "nbconvert_exporter": "python",
   "pygments_lexer": "ipython3",
   "version": "3.8.5"
  }
 },
 "nbformat": 4,
 "nbformat_minor": 5
}
