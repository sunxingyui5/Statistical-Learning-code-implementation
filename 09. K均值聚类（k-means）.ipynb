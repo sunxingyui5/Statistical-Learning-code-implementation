{
 "cells": [
  {
   "cell_type": "markdown",
   "id": "a5bc2e7b",
   "metadata": {},
   "source": [
    "#### k均值聚类算法  \n",
    "**输入**：$n$个样本的集合$X$；  \n",
    "**输出**：样本集合的聚类$C^*$  \n",
    "（1）初始化。令$t=0$，随机选择$k$个样本点作为初始聚类中心$m^{(0)}=(m_1^{(0)},...m_l^{(0)},...m_k^{(0)})$。  \n",
    "（2）对样本进行聚类。对固定的类中心$m^{(t)}=(m_1^{(t)},...m_l^{(t)},...m_k^{(t)})$，其中$m_l^{(t)}$为类$G_l$的中心，计算每个样本到类中心的距离，将每个样本指派到与其最近的中心的类中，构成聚类结果$C^{(t)}$。  \n",
    "（3）计算新的类中心。对聚类结果$C^{(t)}$，计算当前各个类中样本的均值，作为新的类中心$m^{(t+1)}=(m_1^{(t+1)},...m_l^{(t+1)},...m_k^{(t+1)})$。  \n",
    "（4）如果迭代收敛或符合停止条件，输出$C^*=C^{(t)}$  \n",
    "&emsp;否则，令$t=t+1$，返回步（2）。  \n",
    "k均值聚类算法的复杂度是$O(mmk)$，其中$m$是样本维数，$n$是样本个数，$k$是类别个数。"
   ]
  },
  {
   "cell_type": "code",
   "execution_count": 1,
   "id": "2a79f2ad",
   "metadata": {},
   "outputs": [],
   "source": [
    "import math\n",
    "import random \n",
    "import numpy as np\n",
    "from scipy.special import comb\n",
    "import matplotlib.pyplot as plt"
   ]
  },
  {
   "cell_type": "markdown",
   "id": "1bd1e3fc",
   "metadata": {},
   "source": [
    "#### 加载文件  \n",
    "$param file$:要加载的文件路径--鸢尾花数据集   \n",
    "*return*: 数据集和标签集"
   ]
  },
  {
   "cell_type": "code",
   "execution_count": 2,
   "id": "0d7d1656",
   "metadata": {},
   "outputs": [],
   "source": [
    "def load_data(file):\n",
    "    Xlist = []\n",
    "    Ylist = []\n",
    "    fr = open(file)\n",
    "    for line in fr.readlines():\n",
    "        cur = line.split(',')\n",
    "        label = cur[-1]\n",
    "        X = [float(x) for x in cur[:-1]]\n",
    "        Xlist.append(X)\n",
    "        Ylist.append(label)\n",
    "    Xarray = np.array(Xlist)\n",
    "    print('Data shape:', Xarray.shape)\n",
    "    print('Length of labels:', len(Ylist))\n",
    "    return Xarray, Ylist"
   ]
  },
  {
   "cell_type": "markdown",
   "id": "3e4e4edf",
   "metadata": {},
   "source": [
    "#### 定义标准化函数，对每一列特征进行min-max标准化  \n",
    "$param Xarray$:特征数据数组  \n",
    "*return*: 标准化处理后的特征数据数组"
   ]
  },
  {
   "cell_type": "code",
   "execution_count": 3,
   "id": "2b6d94c2",
   "metadata": {},
   "outputs": [],
   "source": [
    "def Normalize(Xarray):\n",
    "    for f in range(Xarray.shape[1]):\n",
    "        maxf = np.max(Xarray[:, f])\n",
    "        minf = np.min(Xarray[:, f])\n",
    "        for n in range(Xarray.shape[0]):\n",
    "            Xarray[n][f] = (Xarray[n][f]-minf) / (maxf-minf) \n",
    "    return Xarray"
   ]
  },
  {
   "cell_type": "markdown",
   "id": "85ce4075",
   "metadata": {},
   "source": [
    "#### 定义计算两条数据间的距离的函数(欧式距离)  \n",
    "$param xi$:第i条特征数据   \n",
    "$param xj$:第j条特征数据  \n",
    "*return*:两条数据的欧式距离"
   ]
  },
  {
   "cell_type": "code",
   "execution_count": 4,
   "id": "3f654fd0",
   "metadata": {},
   "outputs": [],
   "source": [
    "def cal_distance(xi, xj):\n",
    "    dist = 0\n",
    "    for col in range(len(xi)):\n",
    "        dist += (xi[col]-xj[col]) ** 2\n",
    "    dist = math.sqrt(dist)\n",
    "    return dist"
   ]
  },
  {
   "cell_type": "markdown",
   "id": "348f8397",
   "metadata": {},
   "source": [
    "#### 定义计算类中心的函数  \n",
    "$param group$:类所包含的数据列表  \n",
    "$param Xarray$:特征数据数组  \n",
    "*return*:新的类中心"
   ]
  },
  {
   "cell_type": "code",
   "execution_count": 5,
   "id": "f97f26ad",
   "metadata": {},
   "outputs": [],
   "source": [
    "def cal_groupcenter(group, Xarray):\n",
    "    center = np.zeros(Xarray.shape[1])\n",
    "    for i in range(Xarray.shape[1]):\n",
    "        for n in group:\n",
    "            center[i] += Xarray[n][i]\n",
    "    center = center / Xarray.shape[0]\n",
    "    return center"
   ]
  },
  {
   "cell_type": "markdown",
   "id": "e2980216",
   "metadata": {},
   "source": [
    "#### 定义计算调整兰德系数(ARI)的函数  \n",
    "$param group_dict$:类别字典  \n",
    "$param Ylist$:类别标签列表  \n",
    "*return*:调整兰德系数"
   ]
  },
  {
   "cell_type": "code",
   "execution_count": 6,
   "id": "2315152d",
   "metadata": {},
   "outputs": [],
   "source": [
    "def Adjusted_Rand_Index(group_dict, Ylist, k):\n",
    "    group_array = np.zeros((k, k))\n",
    "    ylabel = list(set(Ylist))\n",
    "    y_dict = {i:[] for i in range(k)}\n",
    "    for i in range(len(Ylist)):\n",
    "        y_dict[ylabel.index(Ylist[i])].append(i)\n",
    "    for i in range(k):\n",
    "        for j in range(k):\n",
    "            for n in range(len(Ylist)):\n",
    "                if n in group_dict[i] and n in y_dict[j]:\n",
    "                    group_array[i][j] += 1 \n",
    "    RI = 0\n",
    "    sum_i = np.zeros(k)\n",
    "    sum_j = np.zeros(k)\n",
    "    for i in range(k):\n",
    "        for j in range(k):\n",
    "            sum_i[i] += group_array[i][j]\n",
    "            sum_j[j] += group_array[i][j]\n",
    "            if group_array[i][j] >= 2:\n",
    "                RI += comb(group_array[i][j], 2)\n",
    "    ci = 0 \n",
    "    cj = 0 \n",
    "    for i in range(k):\n",
    "        if sum_i[i] >= 2:\n",
    "            ci += comb(sum_i[i], 2)\n",
    "    for j in range(k):\n",
    "        if sum_j[j] >= 2:\n",
    "            cj += comb(sum_j[j], 2)\n",
    "    E_RI = ci * cj / comb(len(Ylist), 2)\n",
    "    max_RI = (ci + cj) / 2\n",
    "    return (RI-E_RI) / (max_RI-E_RI)"
   ]
  },
  {
   "cell_type": "markdown",
   "id": "b2214dba",
   "metadata": {},
   "source": [
    "#### 定义k均值聚类函数   \n",
    "$param Xarray$:特征数据数组  \n",
    "$param k$:设定的类别数  \n",
    "$param iters$:设定的迭代次数  \n",
    "*return*:调整兰德系数"
   ]
  },
  {
   "cell_type": "code",
   "execution_count": 7,
   "id": "ea045f85",
   "metadata": {},
   "outputs": [],
   "source": [
    "def Kmeans(Xarray, k, iters):\n",
    "    center_inds = random.sample(range(Xarray.shape[0]), k) \n",
    "    centers = [Xarray[ci] for ci in center_inds] \n",
    "    scores = []\n",
    "    for i in range(iters):\n",
    "        group_dict = {i:[] for i in range(k)}\n",
    "        print('{}/{}'.format(i+1, iters))\n",
    "        for n in range(Xarray.shape[0]):\n",
    "            dists = []\n",
    "            for ci in range(k):\n",
    "                dist = cal_distance(Xarray[n], centers[ci])\n",
    "                dists.append(dist)\n",
    "            g = dists.index(min(dists))\n",
    "            group_dict[g].append(n)\n",
    "        print(group_dict)\n",
    "        for i in range(k):\n",
    "            centers[i] = cal_groupcenter(group_dict[i], Xarray)\n",
    "        scores.append(Adjusted_Rand_Index(group_dict, Ylist, k))\n",
    "    return group_dict, scores"
   ]
  },
  {
   "cell_type": "markdown",
   "id": "0dd1b00e",
   "metadata": {},
   "source": [
    "#### 开始实验"
   ]
  },
  {
   "cell_type": "code",
   "execution_count": 11,
   "id": "883f09e2",
   "metadata": {},
   "outputs": [
    {
     "name": "stdout",
     "output_type": "stream",
     "text": [
      "Data shape: (150, 4)\n",
      "Length of labels: 150\n",
      "1/3\n",
      "{0: [50, 52, 100, 102, 104, 105, 107, 108, 109, 112, 117, 118, 120, 122, 124, 125, 129, 130, 131, 135, 136, 139, 140, 141, 143, 144, 145], 1: [0, 1, 2, 3, 4, 5, 6, 7, 8, 9, 10, 11, 12, 13, 14, 15, 16, 17, 18, 19, 20, 21, 22, 23, 24, 25, 26, 27, 28, 29, 30, 31, 32, 33, 34, 35, 36, 37, 38, 39, 40, 41, 42, 43, 44, 45, 46, 47, 48, 49, 53, 57, 59, 60, 62, 64, 67, 69, 79, 80, 81, 82, 89, 93, 98], 2: [51, 54, 55, 56, 58, 61, 63, 65, 66, 68, 70, 71, 72, 73, 74, 75, 76, 77, 78, 83, 84, 85, 86, 87, 88, 90, 91, 92, 94, 95, 96, 97, 99, 101, 103, 106, 110, 111, 113, 114, 115, 116, 119, 121, 123, 126, 127, 128, 132, 133, 134, 137, 138, 142, 146, 147, 148, 149]}\n",
      "2/3\n",
      "{0: [], 1: [0, 1, 2, 3, 4, 5, 6, 7, 8, 9, 10, 11, 12, 13, 14, 15, 16, 17, 18, 19, 20, 21, 22, 23, 24, 25, 26, 27, 28, 29, 30, 31, 32, 33, 34, 35, 36, 37, 38, 39, 40, 41, 42, 43, 44, 45, 46, 47, 48, 49], 2: [50, 51, 52, 53, 54, 55, 56, 57, 58, 59, 60, 61, 62, 63, 64, 65, 66, 67, 68, 69, 70, 71, 72, 73, 74, 75, 76, 77, 78, 79, 80, 81, 82, 83, 84, 85, 86, 87, 88, 89, 90, 91, 92, 93, 94, 95, 96, 97, 98, 99, 100, 101, 102, 103, 104, 105, 106, 107, 108, 109, 110, 111, 112, 113, 114, 115, 116, 117, 118, 119, 120, 121, 122, 123, 124, 125, 126, 127, 128, 129, 130, 131, 132, 133, 134, 135, 136, 137, 138, 139, 140, 141, 142, 143, 144, 145, 146, 147, 148, 149]}\n",
      "3/3\n",
      "{0: [], 1: [0, 1, 2, 3, 4, 5, 6, 7, 8, 9, 10, 11, 12, 13, 14, 15, 16, 17, 18, 19, 20, 21, 22, 23, 24, 25, 26, 27, 28, 29, 30, 31, 32, 33, 34, 35, 36, 37, 38, 39, 40, 41, 42, 43, 44, 45, 46, 47, 48, 49], 2: [50, 51, 52, 53, 54, 55, 56, 57, 58, 59, 60, 61, 62, 63, 64, 65, 66, 67, 68, 69, 70, 71, 72, 73, 74, 75, 76, 77, 78, 79, 80, 81, 82, 83, 84, 85, 86, 87, 88, 89, 90, 91, 92, 93, 94, 95, 96, 97, 98, 99, 100, 101, 102, 103, 104, 105, 106, 107, 108, 109, 110, 111, 112, 113, 114, 115, 116, 117, 118, 119, 120, 121, 122, 123, 124, 125, 126, 127, 128, 129, 130, 131, 132, 133, 134, 135, 136, 137, 138, 139, 140, 141, 142, 143, 144, 145, 146, 147, 148, 149]}\n"
     ]
    },
    {
     "data": {
      "image/png": "[encoded data removed]",
      "text/plain": [
       "<Figure size 432x288 with 1 Axes>"
      ]
     },
     "metadata": {
      "needs_background": "light"
     },
     "output_type": "display_data"
    }
   ],
   "source": [
    "# 加载数据\n",
    "Xarray, Ylist = load_data('iris/iris.data')\n",
    "\n",
    "# 对特征数据进行标准化处理\n",
    "Xarray = Normalize(Xarray)  \n",
    "\n",
    "# 设定聚类数为3\n",
    "k = 3  \n",
    "\n",
    "# 设定迭代次数为2\n",
    "iters = 3  \n",
    "\n",
    "# 进行k均值聚类\n",
    "group_dict, scores = Kmeans(Xarray, k, iters)  \n",
    "\n",
    "# 绘制ARI得分折线图\n",
    "plt.plot(range(iters), scores)  \n",
    "plt.show()"
   ]
  },
  {
   "cell_type": "code",
   "execution_count": null,
   "id": "196be8b0",
   "metadata": {},
   "outputs": [],
   "source": []
  }
 ],
 "metadata": {
  "kernelspec": {
   "display_name": "Python 3 (ipykernel)",
   "language": "python",
   "name": "python3"
  },
  "language_info": {
   "codemirror_mode": {
    "name": "ipython",
    "version": 3
   },
   "file_extension": ".py",
   "mimetype": "text/x-python",
   "name": "python",
   "nbconvert_exporter": "python",
   "pygments_lexer": "ipython3",
   "version": "3.8.5"
  }
 },
 "nbformat": 4,
 "nbformat_minor": 5
}
