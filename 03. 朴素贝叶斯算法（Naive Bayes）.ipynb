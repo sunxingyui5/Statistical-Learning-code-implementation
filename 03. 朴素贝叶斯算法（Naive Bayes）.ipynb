{
 "cells": [
  {
   "cell_type": "markdown",
   "id": "98def75f",
   "metadata": {},
   "source": [
    "#### 朴素贝叶斯算法  \n",
    "**输入**：训练数据$T=\\{(x_1,y_1),(x_2,y_2),...,(x_N,y_N) \\}$，其中$x_i=(x_i^{(1)},x_i^{(2)},...,x_i^{(n)})$，$x_i^{(j)}$是第$i$个样本的第$j$个特征，$x_i^{(j)}\\in \\{a_{j1},a_{j2},...,a_{jS_j} \\}$，  \n",
    "&emsp;$a_{jl}$是第$j$个特征可能取的第$l$个值，$j=1,2,...,S_j$，$y_i\\in c_1,c_2,...c_K$；实例$x$；  \n",
    "**输出**：实例$x$的分类。  \n",
    "（1）计算先验概率及条件概率  \n",
    "&emsp;&emsp;&emsp;$P(Y=c_k)=\\frac{\\sum_{i=1}^NI(y_i=c_k)}{N},k=1,2,...,K $  \n",
    "&emsp;&emsp;&emsp;$P(X^{(j)}=a_{jl}|Y=c_k)=\\frac{\\sum_{i=1}^NI(x_i^{(j)}=a_{jl},y_i=c_k)}{\\sum_{i=1}^NI(y_i=c_k)} $  \n",
    "&emsp;&emsp;&emsp;$j=1,2,...,n;l=1,2,...,S;k=1,2,...,K$  \n",
    "（2）对于给定的实例$x=(x^{(1)},x^{(2)},...,x^{(n)})^T$，计算  \n",
    "&emsp;&emsp;&emsp;$P(Y=c_k)\\prod_{j=1}^{n}P(X^{(j)}=x^{(j)}|Y=c_k),k=1,2,...,K $  \n",
    "（3）确定实例$x$的类  \n",
    "&emsp;&emsp;&emsp;$y=arg\\max_{c_k}P(Y=c_k)\\prod_{j=1}^{n}P(X^{(j)}=x^{(j)}|Y=c_k) $"
   ]
  },
  {
   "cell_type": "code",
   "execution_count": 1,
   "id": "3299b11b",
   "metadata": {},
   "outputs": [],
   "source": [
    "import numpy as np"
   ]
  },
  {
   "cell_type": "markdown",
   "id": "9b3f5360",
   "metadata": {},
   "source": [
    "#### 加载文件  \n",
    "$fileName$: 要加载的文件路径  \n",
    "$return$: 数据集和标签集"
   ]
  },
  {
   "cell_type": "code",
   "execution_count": 2,
   "id": "52ed3e8f",
   "metadata": {},
   "outputs": [],
   "source": [
    "def loadData(fileName):\n",
    "    dataArr = []\n",
    "    labelArr = []\n",
    "    fr = open(fileName)\n",
    "    #遍历文件中的每一行\n",
    "    for line in fr.readlines():\n",
    "        curLine = line.strip().split(',')\n",
    "        dataArr.append([int(int(num) > 128) for num in curLine[1:]])\n",
    "        labelArr.append(int(curLine[0]))\n",
    "    #返回数据集和标记\n",
    "    return dataArr, labelArr"
   ]
  },
  {
   "cell_type": "markdown",
   "id": "033355b7",
   "metadata": {},
   "source": [
    "#### 通过朴素贝叶斯进行概率估计  \n",
    "$P_y$: 先验概率分布  \n",
    "$P_{x\\_y}$: 条件概率分布  \n",
    "$x$: 要估计的样本x  \n",
    "*return*: 返回所有label的估计概率"
   ]
  },
  {
   "cell_type": "code",
   "execution_count": 3,
   "id": "22e2e3d6",
   "metadata": {},
   "outputs": [],
   "source": [
    "def NaiveBayes(Py, Px_y, x):\n",
    "    #设置特征数目，类别数目\n",
    "    featrueNum = 784\n",
    "    classNum = 10\n",
    "    P = [0] * classNum\n",
    "    #对于每一个类别，单独估计其概率\n",
    "    for i in range(classNum):\n",
    "        sum = 0\n",
    "        #获取每一个条件概率值，进行累加\n",
    "        for j in range(featrueNum):\n",
    "            sum += Px_y[i][j][x[j]]\n",
    "        P[i] = sum + Py[i]\n",
    "\n",
    "    #max(P)：找到概率最大值\n",
    "    return P.index(max(P))"
   ]
  },
  {
   "cell_type": "markdown",
   "id": "ef5496d3",
   "metadata": {},
   "source": [
    "#### 对测试集进行测试  \n",
    "$P_y$: 先验概率分布  \n",
    "$P_{x\\_y}$: 条件概率分布  \n",
    "$testDataArr$: 测试集数据  \n",
    "$testLabelArr$: 测试集标记  \n",
    "*return*: 准确率"
   ]
  },
  {
   "cell_type": "code",
   "execution_count": 4,
   "id": "3b84c08f",
   "metadata": {},
   "outputs": [],
   "source": [
    "def model_test(Py, Px_y, testDataArr, testLabelArr):\n",
    "    #错误值计数\n",
    "    errorCnt = 0\n",
    "    #循环遍历测试集中的每一个样本\n",
    "    for i in range(len(testDataArr)):\n",
    "        presict = NaiveBayes(Py, Px_y, testDataArr[i])\n",
    "        #与答案进行比较\n",
    "        if presict != testLabelArr[i]:\n",
    "            errorCnt += 1\n",
    "    #返回准确率\n",
    "    return 1 - (errorCnt / len(testDataArr))"
   ]
  },
  {
   "cell_type": "markdown",
   "id": "e0cd77d8",
   "metadata": {},
   "source": [
    "#### 通过训练集计算先验概率分布和条件概率分布  \n",
    "$trainDataArr$: 训练数据集  \n",
    "$trainLabelArr$: 训练标记集  \n",
    "*return*: 先验概率分布和条件概率分布"
   ]
  },
  {
   "cell_type": "code",
   "execution_count": 5,
   "id": "afe5d91f",
   "metadata": {},
   "outputs": [],
   "source": [
    "def getAllProbability(trainDataArr, trainLabelArr):\n",
    "    #设置样本特诊数目，数据集中手写图片为28*28，转换为向量是784维。\n",
    "    featureNum = 784\n",
    "    classNum = 10\n",
    "    #初始化先验概率分布存放数组，后续计算得到的P(Y = 0)放在Py[0]中，以此类推\n",
    "    Py = np.zeros((classNum, 1))\n",
    "    #对每个类别进行一次循环，分别计算它们的先验概率分布\n",
    "    for i in range(classNum):\n",
    "        Py[i] = ((np.sum(np.mat(trainLabelArr) == i)) + 1) / (len(trainLabelArr) + 10)\n",
    "    #转换为log对数形式\n",
    "    Py = np.log(Py)\n",
    "    Px_y = np.zeros((classNum, featureNum, 2))\n",
    "    #对标记集进行遍历\n",
    "    for i in range(len(trainLabelArr)):\n",
    "        label = trainLabelArr[i]\n",
    "        x = trainDataArr[i]\n",
    "        for j in range(featureNum):\n",
    "            Px_y[label][j][x[j]] += 1\n",
    "\n",
    "    #循环每一个标记（共10个）\n",
    "    for label in range(classNum):\n",
    "        #循环每一个标记对应的每一个特征\n",
    "        for j in range(featureNum):\n",
    "            Px_y0 = Px_y[label][j][0]\n",
    "            Px_y1 = Px_y[label][j][1]\n",
    "            Px_y[label][j][0] = np.log((Px_y0 + 1) / (Px_y0 + Px_y1 + 2))\n",
    "            Px_y[label][j][1] = np.log((Px_y1 + 1) / (Px_y0 + Px_y1 + 2))\n",
    "\n",
    "    #返回先验概率分布和条件概率分布\n",
    "    return Py, Px_y"
   ]
  },
  {
   "cell_type": "markdown",
   "id": "f34b6bef",
   "metadata": {},
   "source": [
    "#### 开始实验"
   ]
  },
  {
   "cell_type": "code",
   "execution_count": 6,
   "id": "d41b1927",
   "metadata": {},
   "outputs": [
    {
     "name": "stdout",
     "output_type": "stream",
     "text": [
      "start read trainSet\n",
      "start read testSet\n",
      "start to train\n",
      "start to test\n",
      "the accuracy is: 0.8432999999999999\n"
     ]
    }
   ],
   "source": [
    "# 获取训练集\n",
    "print('start read trainSet')\n",
    "trainDataArr, trainLabelArr = loadData('Mnist/mnist_train.csv')\n",
    "\n",
    "# 获取测试集\n",
    "print('start read testSet')\n",
    "testDataArr, testLabelArr = loadData('Mnist/mnist_test.csv')\n",
    "\n",
    "#开始训练，学习先验概率分布和条件概率分布\n",
    "print('start to train')\n",
    "Py, Px_y = getAllProbability(trainDataArr, trainLabelArr)\n",
    "\n",
    "#使用习得的先验概率分布和条件概率分布对测试集进行测试\n",
    "print('start to test')\n",
    "accuracy = model_test(Py, Px_y, testDataArr, testLabelArr)\n",
    "\n",
    "#打印准确率\n",
    "print('the accuracy is:', accuracy)"
   ]
  },
  {
   "cell_type": "code",
   "execution_count": null,
   "id": "00d9d745",
   "metadata": {},
   "outputs": [],
   "source": []
  }
 ],
 "metadata": {
  "kernelspec": {
   "display_name": "Python 3 (ipykernel)",
   "language": "python",
   "name": "python3"
  },
  "language_info": {
   "codemirror_mode": {
    "name": "ipython",
    "version": 3
   },
   "file_extension": ".py",
   "mimetype": "text/x-python",
   "name": "python",
   "nbconvert_exporter": "python",
   "pygments_lexer": "ipython3",
   "version": "3.8.5"
  }
 },
 "nbformat": 4,
 "nbformat_minor": 5
}
