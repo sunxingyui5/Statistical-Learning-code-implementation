{
 "cells": [
  {
   "cell_type": "markdown",
   "id": "ec349f2c",
   "metadata": {},
   "source": [
    "#### k近邻学习算法  \n",
    "**输入**：训练数据集  \n",
    "&emsp;$T=\\{(x_1,y_1),(x_2,y_2),...,(x_N,y_N) \\}$  \n",
    "&emsp;其中，$x_i\\in X\\subseteq R_n$为实例的特征向量，$y_i\\in Y=\\{c_1,c_2,...c_K \\}$为实例的类别，$i=1,2,...,N$；实例的特征向量x；   \n",
    "**输出**：实例$x$所属的类$y$。  \n",
    "（1）根据给定的距离度量，在训练集$T$中找出与$x$最近邻的$k$个点，涵盖这$k$个点的$x$的邻域记作$N_k(x)$；  \n",
    "（2）在$N_k(x)$中根据分类决策规则（如多数表决）决定$x$的类别$y$；  \n",
    "&emsp;&emsp;&emsp;$y=arg \\max_{c_j}\\sum {I(y_i=c_j)},i=1,2,...,N;j=1,2,...,K$  \n",
    "&emsp;其中$I$为指示函数，即当$y_i=c_j$时$I$为1，否则$I$为0。"
   ]
  },
  {
   "cell_type": "code",
   "execution_count": 1,
   "id": "ecc0ad33",
   "metadata": {},
   "outputs": [],
   "source": [
    "import numpy as np"
   ]
  },
  {
   "cell_type": "markdown",
   "id": "45d053e0",
   "metadata": {},
   "source": [
    "#### 加载Mnist数据集：http://yann.lecun.com/exdb/mnist/  \n",
    "*$fileName$*:要加载的文件路径  \n",
    "*return*: 数据集和标签集"
   ]
  },
  {
   "cell_type": "code",
   "execution_count": 2,
   "id": "bc764007",
   "metadata": {},
   "outputs": [],
   "source": [
    "def loadData(fileName):\n",
    "    dataArr = []; labelArr = []\n",
    "    fr = open(fileName)\n",
    "    #遍历文件中的每一行\n",
    "    for line in fr.readlines():\n",
    "        curLine = line.strip().split(',')\n",
    "        dataArr.append([int(num) for num in curLine[1:]])\n",
    "        labelArr.append(int(curLine[0]))\n",
    "    #返回数据集和标记\n",
    "    return dataArr, labelArr"
   ]
  },
  {
   "cell_type": "markdown",
   "id": "a3a35dc4",
   "metadata": {},
   "source": [
    "#### 计算两个样本点向量之间的距离  \n",
    "$x_1$:向量1  \n",
    "$x_2$:向量2  \n",
    "*return*:向量之间的欧式距离：$d=\\sqrt[]{\\sum (x_1-x_2)^2} $"
   ]
  },
  {
   "cell_type": "code",
   "execution_count": 3,
   "id": "38e136f2",
   "metadata": {},
   "outputs": [],
   "source": [
    "def calcDist(x1, x2):\n",
    "    return np.sqrt(np.sum(np.square(x1 - x2)))"
   ]
  },
  {
   "cell_type": "markdown",
   "id": "0ff18cef",
   "metadata": {},
   "source": [
    "#### 预测样本x的标记\n",
    "$trainDataMat$: 训练集数据集  \n",
    "$trainLabelMat$: 训练集标签集  \n",
    "$x$: 要预测的样本x  \n",
    "$topK$: 选择参考最邻近样本的数目（样本数目的选择关系到正确率，详看3.2.3 K值的选择）  \n",
    "*return*: 预测的标记"
   ]
  },
  {
   "cell_type": "code",
   "execution_count": 4,
   "id": "b3e81a7f",
   "metadata": {},
   "outputs": [],
   "source": [
    "def KNN(trainDataMat, trainLabelMat, x, topK):\n",
    "    distList = [0] * len(trainLabelMat)\n",
    "    #遍历训练集中所有的样本点，计算与x的距离\n",
    "    for i in range(len(trainDataMat)):\n",
    "        x1 = trainDataMat[i]\n",
    "        curDist = calcDist(x1, x)\n",
    "        distList[i] = curDist\n",
    "    topKList = np.argsort(np.array(distList))[:topK]        #升序排序\n",
    "    #建立一个长度时的列表，用于选择数量最多的标记\n",
    "    labelList = [0] * 10\n",
    "    #对topK个索引进行遍历\n",
    "    for index in topKList:\n",
    "        labelList[int(trainLabelMat[index])] += 1\n",
    "    #max(labelList)：找到选票箱中票数最多的票数值\n",
    "    return labelList.index(max(labelList))"
   ]
  },
  {
   "cell_type": "markdown",
   "id": "6f7b0fd7",
   "metadata": {},
   "source": [
    "#### 测试正确率  \n",
    "$trainDataArr$:训练集数据集  \n",
    "$trainLabelArr$: 训练集标记  \n",
    "$testDataArr$: 测试集数据集  \n",
    "$testLabelArr$: 测试集标记  \n",
    "$topK$: 选择多少个邻近点参考  \n",
    "*return*: 正确率"
   ]
  },
  {
   "cell_type": "code",
   "execution_count": 5,
   "id": "4360a421",
   "metadata": {},
   "outputs": [],
   "source": [
    "def model_test(trainDataArr, trainLabelArr, testDataArr, testLabelArr, topK):\n",
    "    trainDataMat = np.mat(trainDataArr); trainLabelMat = np.mat(trainLabelArr).T\n",
    "    testDataMat = np.mat(testDataArr); testLabelMat = np.mat(testLabelArr).T\n",
    "    errorCnt = 0\n",
    "    #遍历测试集，对每个测试集样本进行测试\n",
    "    for i in range(200):\n",
    "        if i%10 == 0:\n",
    "            print('test %d:%d' % (i, 200))\n",
    "        x = testDataMat[i]\n",
    "        y = KNN(trainDataMat, trainLabelMat, x, topK)\n",
    "        #如果预测标记与实际标记不符，错误值计数加1\n",
    "        if y != testLabelMat[i]: errorCnt += 1\n",
    "    #返回正确率\n",
    "    return 1 - (errorCnt / 200)"
   ]
  },
  {
   "cell_type": "markdown",
   "id": "6df0c014",
   "metadata": {},
   "source": [
    "#### 开始实验"
   ]
  },
  {
   "cell_type": "code",
   "execution_count": 7,
   "id": "371ac4bf",
   "metadata": {},
   "outputs": [
    {
     "name": "stdout",
     "output_type": "stream",
     "text": [
      "test 0:200\n",
      "test 10:200\n",
      "test 20:200\n",
      "test 30:200\n",
      "test 40:200\n",
      "test 50:200\n",
      "test 60:200\n",
      "test 70:200\n",
      "test 80:200\n",
      "test 90:200\n",
      "test 100:200\n",
      "test 110:200\n",
      "test 120:200\n",
      "test 130:200\n",
      "test 140:200\n",
      "test 150:200\n",
      "test 160:200\n",
      "test 170:200\n",
      "test 180:200\n",
      "test 190:200\n",
      "accuracy rate is: 0.97\n"
     ]
    }
   ],
   "source": [
    "#获取训练集\n",
    "trainDataArr, trainLabelArr = loadData('Mnist/mnist_train.csv')\n",
    "#获取测试集\n",
    "testDataArr, testLabelArr = loadData('Mnist/mnist_test.csv')\n",
    "#计算测试集正确率\n",
    "accuracy = model_test(trainDataArr, trainLabelArr, testDataArr, testLabelArr, 25)\n",
    "#打印正确率\n",
    "print('accuracy rate is:', accuracy)"
   ]
  },
  {
   "cell_type": "code",
   "execution_count": null,
   "id": "86cefb83",
   "metadata": {},
   "outputs": [],
   "source": []
  }
 ],
 "metadata": {
  "kernelspec": {
   "display_name": "Python 3 (ipykernel)",
   "language": "python",
   "name": "python3"
  },
  "language_info": {
   "codemirror_mode": {
    "name": "ipython",
    "version": 3
   },
   "file_extension": ".py",
   "mimetype": "text/x-python",
   "name": "python",
   "nbconvert_exporter": "python",
   "pygments_lexer": "ipython3",
   "version": "3.8.5"
  }
 },
 "nbformat": 4,
 "nbformat_minor": 5
}
