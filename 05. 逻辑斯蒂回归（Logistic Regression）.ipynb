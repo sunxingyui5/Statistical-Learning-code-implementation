{
 "cells": [
  {
   "cell_type": "markdown",
   "id": "15805682",
   "metadata": {},
   "source": [
    "#### 逻辑斯蒂回归模型  \n",
    "二项逻辑斯蒂回归模型是如下的条件概率分布：  \n",
    "&emsp;&emsp;&emsp;$P(Y=1|x)=\\frac{exp(w\\cdot x+b)}{1+exp(w\\cdot x+b)} $  \n",
    "&emsp;&emsp;&emsp;$P(Y=0|x)=\\frac{1}{1+exp(w\\cdot x+b)} $"
   ]
  },
  {
   "cell_type": "markdown",
   "id": "7e1889ed",
   "metadata": {},
   "source": [
    "#### 加载文件  \n",
    "$fileName$: 要加载的文件路径  \n",
    "*return*: 数据集和标签集"
   ]
  },
  {
   "cell_type": "code",
   "execution_count": 1,
   "id": "f0f26da6",
   "metadata": {},
   "outputs": [],
   "source": [
    "import numpy as np"
   ]
  },
  {
   "cell_type": "code",
   "execution_count": 2,
   "id": "d6c1b4a5",
   "metadata": {},
   "outputs": [],
   "source": [
    "def loadData(fileName):\n",
    "    dataList = []\n",
    "    labelList = []\n",
    "\n",
    "    fr = open(fileName, 'r')\n",
    "\n",
    "    for line in fr.readlines():\n",
    "        curLine = line.strip().split(',')\n",
    "        \n",
    "        if int(curLine[0]) == 0:\n",
    "            labelList.append(1)\n",
    "        else:\n",
    "            labelList.append(0)\n",
    "\n",
    "        dataList.append([int(num)/255 for num in curLine[1:]])\n",
    "\n",
    "    #返回data和label\n",
    "    return dataList, labelList"
   ]
  },
  {
   "cell_type": "markdown",
   "id": "78b3969a",
   "metadata": {},
   "source": [
    "#### 逻辑斯蒂回归训练过程  \n",
    "$param trainDataList$:训练集  \n",
    "$param trainLabelList$: 标签集  \n",
    "$param iter$: 迭代次数  \n",
    "*return*: 习得的w"
   ]
  },
  {
   "cell_type": "code",
   "execution_count": 3,
   "id": "5636f1ae",
   "metadata": {},
   "outputs": [],
   "source": [
    "def logisticRegression(trainDataList, trainLabelList, iter = 200):\n",
    "    #循环遍历每一个样本，并在其最后添加一个1\n",
    "    for i in range(len(trainDataList)):\n",
    "        trainDataList[i].append(1)\n",
    "\n",
    "    trainDataList = np.array(trainDataList)\n",
    "    #初始化w, 设置步长\n",
    "    w = np.zeros(trainDataList.shape[1])\n",
    "\n",
    "    h = 0.001\n",
    "\n",
    "    #迭代iter次进行随机梯度下降\n",
    "    for i in range(iter):\n",
    "        #每次迭代冲遍历一次所有样本，进行随机梯度下降\n",
    "        for j in range(trainDataList.shape[0]):\n",
    "            wx = np.dot(w, trainDataList[j])\n",
    "            yi = trainLabelList[j]\n",
    "            xi = trainDataList[j]\n",
    "            #梯度上升\n",
    "            w +=  h * (xi * yi - (np.exp(wx) * xi) / ( 1 + np.exp(wx)))\n",
    "\n",
    "    #返回学到的w\n",
    "    return w"
   ]
  },
  {
   "cell_type": "markdown",
   "id": "737d1c24",
   "metadata": {},
   "source": [
    "#### 预测标签  \n",
    "$param w$:训练过程中学到的w  \n",
    "$param x$: 要预测的样本  \n",
    "*return*: 预测结果"
   ]
  },
  {
   "cell_type": "code",
   "execution_count": 4,
   "id": "de405d8f",
   "metadata": {},
   "outputs": [],
   "source": [
    "def predict(w, x):\n",
    "    #dot为两个向量的点积操作，计算得到w * x\n",
    "    wx = np.dot(w, x)\n",
    "    #计算标签为1的概率\n",
    "    P1 = np.exp(wx) / (1 + np.exp(wx))\n",
    "    #如果为1的概率大于0.5，返回1否则返回0\n",
    "    if P1 >= 0.5:\n",
    "        return 1\n",
    "    return 0"
   ]
  },
  {
   "cell_type": "markdown",
   "id": "bbb1b6c0",
   "metadata": {},
   "source": [
    "#### 验证  \n",
    "$param testDataList$:测试集  \n",
    "$param testLabelList$: 测试集标签  \n",
    "$param w$: 训练过程中学到的w  \n",
    "*return*: 正确率"
   ]
  },
  {
   "cell_type": "code",
   "execution_count": 5,
   "id": "fa8a6bfb",
   "metadata": {},
   "outputs": [],
   "source": [
    "def model_test(testDataList, testLabelList, w):\n",
    "    for i in range(len(testDataList)):\n",
    "        testDataList[i].append(1)\n",
    "    #错误值计数\n",
    "    errorCnt = 0\n",
    "    #对于测试集中每一个测试样本进行验证\n",
    "    for i in range(len(testDataList)):\n",
    "        if testLabelList[i] != predict(w, testDataList[i]):\n",
    "            errorCnt += 1\n",
    "    #返回准确率\n",
    "    return 1 - errorCnt / len(testDataList)"
   ]
  },
  {
   "cell_type": "markdown",
   "id": "0a484ca7",
   "metadata": {},
   "source": [
    "#### 开始实验"
   ]
  },
  {
   "cell_type": "code",
   "execution_count": 8,
   "id": "3f9d8798",
   "metadata": {},
   "outputs": [
    {
     "name": "stdout",
     "output_type": "stream",
     "text": [
      "start to train\n",
      "start to test\n",
      "the accuracy is: 0.9938666666666667\n"
     ]
    }
   ],
   "source": [
    "# 获取训练集及标签\n",
    "trainData, trainLabel = loadData('Mnist/mnist_train.csv')\n",
    "\n",
    "# 获取测试集及标签\n",
    "testData, testLabel = loadData('Mnist/mnist_train.csv')\n",
    "\n",
    "# 开始训练，学习w\n",
    "print('start to train')\n",
    "w = logisticRegression(trainData, trainLabel)\n",
    "\n",
    "#验证正确率\n",
    "print('start to test')\n",
    "accuracy = model_test(testData, testLabel, w)\n",
    "\n",
    "# 打印准确率\n",
    "print('the accuracy is:', accuracy)"
   ]
  },
  {
   "cell_type": "code",
   "execution_count": null,
   "id": "2c9c170b",
   "metadata": {},
   "outputs": [],
   "source": []
  }
 ],
 "metadata": {
  "kernelspec": {
   "display_name": "Python 3 (ipykernel)",
   "language": "python",
   "name": "python3"
  },
  "language_info": {
   "codemirror_mode": {
    "name": "ipython",
    "version": 3
   },
   "file_extension": ".py",
   "mimetype": "text/x-python",
   "name": "python",
   "nbconvert_exporter": "python",
   "pygments_lexer": "ipython3",
   "version": "3.8.5"
  }
 },
 "nbformat": 4,
 "nbformat_minor": 5
}
